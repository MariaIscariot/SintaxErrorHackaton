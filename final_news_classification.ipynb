{
  "nbformat": 4,
  "nbformat_minor": 0,
  "metadata": {
    "colab": {
      "provenance": []
    },
    "kernelspec": {
      "name": "python3",
      "display_name": "Python 3"
    },
    "language_info": {
      "name": "python"
    }
  },
  "cells": [
    {
      "cell_type": "code",
      "source": [
        "import joblib\n",
        "import pandas as pd\n",
        "import matplotlib.pyplot as plt\n",
        "import numpy as np\n",
        "import seaborn as sns\n",
        "import string\n",
        "import re\n",
        "from sklearn.feature_extraction.text import TfidfVectorizer"
      ],
      "metadata": {
        "id": "pcfX4kYPORUQ"
      },
      "execution_count": 5,
      "outputs": []
    },
    {
      "cell_type": "code",
      "execution_count": 2,
      "metadata": {
        "id": "58ASc4hIJzx1"
      },
      "outputs": [],
      "source": [
        "\n",
        "# Загрузка модели\n",
        "RF = joblib.load('RF.pkl')\n"
      ]
    },
    {
      "cell_type": "code",
      "source": [
        "def wordopt(text):\n",
        "    text = text.lower()\n",
        "    text = re.sub('\\[.*?\\]','',text)\n",
        "    text = re.sub(\"\\\\W\",\" \",text)\n",
        "    text = re.sub('https?://\\S+|www\\.\\S+','',text)\n",
        "    text = re.sub('<.*?>+',b'',text)\n",
        "    text = re.sub('[%s]' % re.escape(string.punctuation),'',text)\n",
        "    text = re.sub('\\w*\\d\\w*','',text)\n",
        "    return text\n"
      ],
      "metadata": {
        "id": "g0VZceUxN_dG"
      },
      "execution_count": 6,
      "outputs": []
    },
    {
      "cell_type": "code",
      "source": [
        "vectorization = joblib.load('vectorization.pkl')"
      ],
      "metadata": {
        "id": "nnK6lvS9O8Co"
      },
      "execution_count": 20,
      "outputs": []
    },
    {
      "cell_type": "code",
      "source": [
        "def output_lable(n):\n",
        "    if n==0:\n",
        "        return \"Fake News\"\n",
        "    elif n==1:\n",
        "        return \"Trustfull news\"\n",
        "\n",
        "def manual_testing_RF(news):\n",
        "    testing_news = {\"text\":[news]}\n",
        "    new_def_test = pd.DataFrame(testing_news)\n",
        "    new_def_test['text'] = new_def_test[\"text\"].apply(wordopt)\n",
        "    new_x_test = new_def_test[\"text\"]\n",
        "    new_xv_test = vectorization.transform(new_x_test)\n",
        "    # pred_LR = LR.predict(new_xv_test)\n",
        "    # pred_DT = DT.predict(new_xv_test)\n",
        "    #pred_GB = GB.predict(new_xv_test)\n",
        "    pred_RF = RF.predict(new_xv_test)\n",
        "\n",
        "    return print(\"\\nRF Prediction: {}\".format(output_lable(pred_RF[0])))\n"
      ],
      "metadata": {
        "id": "SEDACWRpLNQJ"
      },
      "execution_count": 24,
      "outputs": []
    },
    {
      "cell_type": "code",
      "source": [
        "news = str(input())\n",
        "manual_testing_RF(news)"
      ],
      "metadata": {
        "colab": {
          "base_uri": "https://localhost:8080/"
        },
        "id": "fw4htPZ5Nwk7",
        "outputId": "a6b7d521-6e90-4626-ed81-099171342a6e"
      },
      "execution_count": 28,
      "outputs": [
        {
          "output_type": "stream",
          "name": "stdout",
          "text": [
            "WASHINGTON (Reuters) - The White House expects the U.S. Congress to soon waive a rule known as “Paygo” that could trigger deep spending cuts in areas such as Medicare and agriculture in order to cover the costs of the recently passed tax overhaul, a White House official said on Wednesday.  Congress will likely waive the rule, which requires the Senate to find offsets for the large tax cuts in the bill, through the spending resolution it must soon pass in order to keep the government open, the official added. The official said the Internal Revenue Service, the country’s tax agency, can immediately begin implementing changes called for in the $1.5 trillion overhaul of the U.S. tax code and does not need to wait for President Donald Trump to sign the bill into law. \n",
            "\n",
            "RF Prediction: Trustfull news\n"
          ]
        }
      ]
    },
    {
      "cell_type": "code",
      "source": [],
      "metadata": {
        "id": "f1GBej5lO9rP"
      },
      "execution_count": null,
      "outputs": []
    }
  ]
}