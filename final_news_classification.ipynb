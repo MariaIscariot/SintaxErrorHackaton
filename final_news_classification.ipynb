{
 "nbformat": 4,
 "nbformat_minor": 0,
 "metadata": {
  "colab": {
   "provenance": []
  },
  "kernelspec": {
   "name": "python3",
   "display_name": "Python 3 (ipykernel)",
   "language": "python"
  },
  "language_info": {
   "name": "python"
  }
 },
 "cells": [
  {
   "cell_type": "code",
   "source": [
    "import joblib\n",
    "import pandas as pd\n",
    "import matplotlib.pyplot as plt\n",
    "import numpy as np\n",
    "import string\n",
    "import re\n",
    "from sklearn.feature_extraction.text import TfidfVectorizer"
   ],
   "metadata": {
    "id": "pcfX4kYPORUQ",
    "ExecuteTime": {
     "end_time": "2025-01-25T23:34:46.333210Z",
     "start_time": "2025-01-25T23:34:46.329406Z"
    }
   },
   "outputs": [],
   "execution_count": 16
  },
  {
   "cell_type": "code",
   "metadata": {
    "id": "58ASc4hIJzx1",
    "ExecuteTime": {
     "end_time": "2025-01-25T23:34:46.842611Z",
     "start_time": "2025-01-25T23:34:46.345340Z"
    }
   },
   "source": [
    "\n",
    "# Загрузка модели\n",
    "RF = joblib.load('core/RF.pkl')\n"
   ],
   "outputs": [],
   "execution_count": 17
  },
  {
   "metadata": {},
   "cell_type": "markdown",
   "source": ""
  },
  {
   "metadata": {},
   "cell_type": "markdown",
   "source": ""
  },
  {
   "cell_type": "code",
   "source": [
    "def wordopt(text):\n",
    "    text = text.lower()\n",
    "    text = re.sub('\\[.*?\\]','',text)\n",
    "    text = re.sub(\"\\\\W\",\" \",text)\n",
    "    text = re.sub('https?://\\S+|www\\.\\S+','',text)\n",
    "    text = re.sub('<.*?>+',b'',text)\n",
    "    text = re.sub('[%s]' % re.escape(string.punctuation),'',text)\n",
    "    text = re.sub('\\w*\\d\\w*','',text)\n",
    "    return text\n"
   ],
   "metadata": {
    "id": "g0VZceUxN_dG",
    "ExecuteTime": {
     "end_time": "2025-01-25T23:34:46.852376Z",
     "start_time": "2025-01-25T23:34:46.844800Z"
    }
   },
   "outputs": [
    {
     "name": "stderr",
     "output_type": "stream",
     "text": [
      "<>:3: SyntaxWarning: invalid escape sequence '\\['\n",
      "<>:5: SyntaxWarning: invalid escape sequence '\\S'\n",
      "<>:8: SyntaxWarning: invalid escape sequence '\\w'\n",
      "<>:3: SyntaxWarning: invalid escape sequence '\\['\n",
      "<>:5: SyntaxWarning: invalid escape sequence '\\S'\n",
      "<>:8: SyntaxWarning: invalid escape sequence '\\w'\n",
      "/var/folders/qr/s8bh0djx0fz83p21k2vy75yw0000gp/T/ipykernel_53601/2065772737.py:3: SyntaxWarning: invalid escape sequence '\\['\n",
      "  text = re.sub('\\[.*?\\]','',text)\n",
      "/var/folders/qr/s8bh0djx0fz83p21k2vy75yw0000gp/T/ipykernel_53601/2065772737.py:5: SyntaxWarning: invalid escape sequence '\\S'\n",
      "  text = re.sub('https?://\\S+|www\\.\\S+','',text)\n",
      "/var/folders/qr/s8bh0djx0fz83p21k2vy75yw0000gp/T/ipykernel_53601/2065772737.py:8: SyntaxWarning: invalid escape sequence '\\w'\n",
      "  text = re.sub('\\w*\\d\\w*','',text)\n"
     ]
    }
   ],
   "execution_count": 18
  },
  {
   "cell_type": "code",
   "source": "vectorization = joblib.load('core/vectorization.pkl')",
   "metadata": {
    "id": "nnK6lvS9O8Co",
    "ExecuteTime": {
     "end_time": "2025-01-25T23:34:46.961946Z",
     "start_time": "2025-01-25T23:34:46.856053Z"
    }
   },
   "outputs": [],
   "execution_count": 19
  },
  {
   "cell_type": "code",
   "source": [
    "def output_lable(n):\n",
    "    if n==0:\n",
    "        return \"Fake News\"\n",
    "    elif n==1:\n",
    "        return \"Trustfull news\"\n",
    "\n",
    "def manual_testing_RF(news):\n",
    "    testing_news = {\"text\":[news]}\n",
    "    new_def_test = pd.DataFrame(testing_news)\n",
    "    new_def_test['text'] = new_def_test[\"text\"].apply(wordopt)\n",
    "    new_x_test = new_def_test[\"text\"]\n",
    "    new_xv_test = vectorization.transform(new_x_test)\n",
    "    # pred_LR = LR.predict(new_xv_test)\n",
    "    # pred_DT = DT.predict(new_xv_test)\n",
    "    #pred_GB = GB.predict(new_xv_test)\n",
    "    pred_RF = RF.predict(new_xv_test)\n",
    "\n",
    "    return print(\"\\nRF Prediction: {}\".format(output_lable(pred_RF[0])))\n"
   ],
   "metadata": {
    "id": "SEDACWRpLNQJ",
    "ExecuteTime": {
     "end_time": "2025-01-25T23:34:46.966320Z",
     "start_time": "2025-01-25T23:34:46.963383Z"
    }
   },
   "outputs": [],
   "execution_count": 20
  },
  {
   "cell_type": "code",
   "source": [
    "news = str(input())\n",
    "manual_testing_RF(news)"
   ],
   "metadata": {
    "colab": {
     "base_uri": "https://localhost:8080/"
    },
    "id": "fw4htPZ5Nwk7",
    "outputId": "a6b7d521-6e90-4626-ed81-099171342a6e",
    "ExecuteTime": {
     "end_time": "2025-01-25T23:34:49.306062Z",
     "start_time": "2025-01-25T23:34:46.967019Z"
    }
   },
   "outputs": [
    {
     "name": "stdout",
     "output_type": "stream",
     "text": [
      "\n",
      "RF Prediction: Trustfull news\n"
     ]
    }
   ],
   "execution_count": 21
  },
  {
   "cell_type": "code",
   "source": [
    "\n",
    "    \n",
    "    "
   ],
   "metadata": {
    "id": "f1GBej5lO9rP",
    "ExecuteTime": {
     "end_time": "2025-01-25T23:34:49.309435Z",
     "start_time": "2025-01-25T23:34:49.307551Z"
    }
   },
   "outputs": [],
   "execution_count": 21
  },
  {
   "metadata": {
    "ExecuteTime": {
     "end_time": "2025-01-25T23:34:49.311588Z",
     "start_time": "2025-01-25T23:34:49.310093Z"
    }
   },
   "cell_type": "code",
   "source": "",
   "outputs": [],
   "execution_count": 21
  },
  {
   "metadata": {
    "ExecuteTime": {
     "end_time": "2025-01-25T23:34:49.313676Z",
     "start_time": "2025-01-25T23:34:49.312283Z"
    }
   },
   "cell_type": "code",
   "source": "",
   "outputs": [],
   "execution_count": 21
  },
  {
   "metadata": {
    "ExecuteTime": {
     "end_time": "2025-01-25T23:34:49.315824Z",
     "start_time": "2025-01-25T23:34:49.314408Z"
    }
   },
   "cell_type": "code",
   "source": "\n",
   "outputs": [],
   "execution_count": 21
  }
 ]
}
